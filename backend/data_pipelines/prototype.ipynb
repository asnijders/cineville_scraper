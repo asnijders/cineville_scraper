{
 "cells": [
  {
   "cell_type": "code",
   "execution_count": 1,
   "metadata": {},
   "outputs": [],
   "source": [
    "import logging\n",
    "import pandas as pd\n",
    "from scrapers.filmladder import FilmladderScraper\n",
    "from pipeline import assign_ids_cinemas, assign_ids_screenings, extract_unique_movies\n",
    "# from db.database import save_movies, save_screenings, save_cinemas\n",
    "# from external.imdb_api import fetch_imdb_metadata\n",
    "\n",
    "logging.basicConfig(level=logging.INFO)"
   ]
  },
  {
   "cell_type": "code",
   "execution_count": 2,
   "metadata": {},
   "outputs": [
    {
     "name": "stderr",
     "output_type": "stream",
     "text": [
      "INFO:root:Starting daily data pipeline...\n",
      "INFO:WDM:====== WebDriver manager ======\n",
      "INFO:WDM:Get LATEST chromedriver version for google-chrome\n",
      "INFO:WDM:Get LATEST chromedriver version for google-chrome\n",
      "INFO:WDM:Driver [/Users/ardsnijders/.wdm/drivers/chromedriver/mac64/133.0.6943.126/chromedriver-mac-x64/chromedriver] found in cache\n"
     ]
    }
   ],
   "source": [
    "logging.info(\"Starting daily data pipeline...\")\n",
    "\n",
    "# 1️⃣ Scrape Filmladder (returns two DataFrames)\n",
    "filmladder = FilmladderScraper()\n",
    "screenings_df, cinemas_df = filmladder.run()"
   ]
  },
  {
   "cell_type": "code",
   "execution_count": 3,
   "metadata": {},
   "outputs": [],
   "source": [
    "# 2️⃣ Assign IDs\n",
    "screenings_df = assign_ids_screenings(screenings_df)\n",
    "cinemas_df = assign_ids_cinemas(cinemas_df)\n",
    "\n",
    "# 3️⃣ Extract and fetch IMDb metadata for unique movies\n",
    "movies_df = extract_unique_movies(screenings_df)\n",
    "\n",
    "# movies_df = fetch_metadata(movies_df)\n",
    "\n",
    "# # 4️⃣ Store data in the database\n",
    "# save_movies(movies_df)\n",
    "# save_screenings(screenings_df)\n",
    "# save_cinemas(cinemas_df)\n",
    "\n",
    "# logging.info(\"Daily data pipeline completed.\")"
   ]
  },
  {
   "cell_type": "code",
   "execution_count": 6,
   "metadata": {},
   "outputs": [
    {
     "name": "stderr",
     "output_type": "stream",
     "text": [
      "INFO:WDM:====== WebDriver manager ======\n",
      "INFO:WDM:Get LATEST chromedriver version for google-chrome\n",
      "INFO:WDM:Get LATEST chromedriver version for google-chrome\n",
      "INFO:WDM:Driver [/Users/ardsnijders/.wdm/drivers/chromedriver/mac64/133.0.6943.126/chromedriver-mac-x64/chromedriver] found in cache\n"
     ]
    }
   ],
   "source": [
    "from scrapers.letterboxd import LetterboxdScraper\n",
    "lb_scraper = LetterboxdScraper()\n",
    "watchlist_df = lb_scraper.run()\n"
   ]
  }
 ],
 "metadata": {
  "kernelspec": {
   "display_name": "env",
   "language": "python",
   "name": "python3"
  },
  "language_info": {
   "codemirror_mode": {
    "name": "ipython",
    "version": 3
   },
   "file_extension": ".py",
   "mimetype": "text/x-python",
   "name": "python",
   "nbconvert_exporter": "python",
   "pygments_lexer": "ipython3",
   "version": "3.9.1"
  }
 },
 "nbformat": 4,
 "nbformat_minor": 2
}
