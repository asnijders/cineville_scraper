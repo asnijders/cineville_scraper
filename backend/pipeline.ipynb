{
 "cells": [
  {
   "cell_type": "code",
   "execution_count": 1,
   "metadata": {},
   "outputs": [],
   "source": [
    "# Dynamically add project root to sys.path\n",
    "import sys\n",
    "import os\n",
    "sys.path.append(os.getcwd())\n",
    "from data_pipelines.daily_pipeline import run_daily_pipeline\n",
    "from data_pipelines.save_to_db import save_all_to_db\n",
    "import pandas as pd\n",
    "%load_ext autoreload\n",
    "%autoreload 2\n"
   ]
  },
  {
   "cell_type": "code",
   "execution_count": 2,
   "metadata": {},
   "outputs": [
    {
     "name": "stderr",
     "output_type": "stream",
     "text": [
      "INFO:root:Starting daily data pipeline...\n",
      "INFO:WDM:====== WebDriver manager ======\n",
      "INFO:WDM:Get LATEST chromedriver version for google-chrome\n",
      "INFO:WDM:Get LATEST chromedriver version for google-chrome\n",
      "INFO:WDM:Get LATEST chromedriver version for google-chrome\n",
      "INFO:WDM:WebDriver version 133.0.6943.141 selected\n",
      "INFO:WDM:Modern chrome version https://storage.googleapis.com/chrome-for-testing-public/133.0.6943.141/mac-x64/chromedriver-mac-x64.zip\n",
      "INFO:WDM:About to download new driver from https://storage.googleapis.com/chrome-for-testing-public/133.0.6943.141/mac-x64/chromedriver-mac-x64.zip\n",
      "INFO:WDM:Driver downloading response is 200\n",
      "INFO:WDM:Get LATEST chromedriver version for google-chrome\n",
      "INFO:WDM:Driver has been saved in cache [/Users/ardsnijders/.wdm/drivers/chromedriver/mac64/133.0.6943.141]\n"
     ]
    },
    {
     "name": "stdout",
     "output_type": "stream",
     "text": [
      "/Users/ardsnijders/Documents/cineville_scraper/backend\n"
     ]
    }
   ],
   "source": [
    "screenings_df, cinemas_df = run_daily_pipeline()\n",
    "movies_df = pd.read_pickle('data_pipelines/temp_data/movies.pkl')\n",
    "\n",
    "save_all_to_db(cinemas_df, movies_df, screenings_df)"
   ]
  }
 ],
 "metadata": {
  "kernelspec": {
   "display_name": "env",
   "language": "python",
   "name": "python3"
  },
  "language_info": {
   "codemirror_mode": {
    "name": "ipython",
    "version": 3
   },
   "file_extension": ".py",
   "mimetype": "text/x-python",
   "name": "python",
   "nbconvert_exporter": "python",
   "pygments_lexer": "ipython3",
   "version": "3.9.1"
  }
 },
 "nbformat": 4,
 "nbformat_minor": 2
}
